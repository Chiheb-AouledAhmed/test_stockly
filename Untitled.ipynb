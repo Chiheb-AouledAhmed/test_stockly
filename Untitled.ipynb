{
 "cells": [
  {
   "cell_type": "code",
   "execution_count": 36,
   "id": "94e84143",
   "metadata": {},
   "outputs": [],
   "source": [
    "import numpy as np"
   ]
  },
  {
   "cell_type": "code",
   "execution_count": 23,
   "id": "2c5e5fce",
   "metadata": {},
   "outputs": [
    {
     "name": "stdout",
     "output_type": "stream",
     "text": [
      "-,-,-,427,668,495,377,678,-,177,-,-,870,-,869,624,300,609,131,-,251,-,-,-,856,221,514,-,591,762,182,56,-,884,412,273,636,-,-,774\n",
      "\n"
     ]
    }
   ],
   "source": [
    "with open('data.txt','r') as f:\n",
    "    lines = f.readlines()"
   ]
  },
  {
   "cell_type": "code",
   "execution_count": 33,
   "id": "640bdbf8",
   "metadata": {},
   "outputs": [],
   "source": [
    "for i in range(len(lines)):\n",
    "    lines[i]=lines[i].replace(\"-\",\"0\")"
   ]
  },
  {
   "cell_type": "code",
   "execution_count": 40,
   "id": "c4ff6b09",
   "metadata": {},
   "outputs": [],
   "source": [
    "n=40"
   ]
  },
  {
   "cell_type": "code",
   "execution_count": 41,
   "id": "bd4f7d17",
   "metadata": {},
   "outputs": [],
   "source": [
    "matrix=np.zeros((n,n))\n",
    "for i in range(len(lines)):\n",
    "    matrix[i]=lines[i].split(',')"
   ]
  },
  {
   "cell_type": "code",
   "execution_count": 42,
   "id": "d59c1ba2",
   "metadata": {},
   "outputs": [
    {
     "data": {
      "text/plain": [
       "array([[  0.,   0.,   0., ...,   0.,   0., 774.],\n",
       "       [  0.,   0., 262., ..., 102., 636., 289.],\n",
       "       [  0., 262.,   0., ..., 168., 432., 833.],\n",
       "       ...,\n",
       "       [  0., 102., 168., ...,   0., 371., 680.],\n",
       "       [  0., 636., 432., ..., 371.,   0., 540.],\n",
       "       [774., 289., 833., ..., 680., 540.,   0.]])"
      ]
     },
     "execution_count": 42,
     "metadata": {},
     "output_type": "execute_result"
    }
   ],
   "source": [
    "matrix"
   ]
  },
  {
   "cell_type": "code",
   "execution_count": 50,
   "id": "bc793891",
   "metadata": {},
   "outputs": [
    {
     "name": "stdout",
     "output_type": "stream",
     "text": [
      "Edge : Weight\n",
      "\n",
      "0-31:56.0\n",
      "31-15:68.0\n",
      "15-8:36.0\n",
      "8-24:53.0\n",
      "0-18:131.0\n",
      "18-16:73.0\n",
      "16-1:122.0\n",
      "1-37:102.0\n",
      "37-29:36.0\n",
      "29-9:25.0\n",
      "9-3:32.0\n",
      "9-7:35.0\n",
      "9-13:36.0\n",
      "13-39:17.0\n",
      "9-2:47.0\n",
      "37-28:48.0\n",
      "28-34:9.0\n",
      "34-27:6.0\n",
      "28-20:27.0\n",
      "34-5:33.0\n",
      "5-25:27.0\n",
      "9-10:50.0\n",
      "10-33:7.0\n",
      "10-6:42.0\n",
      "10-19:53.0\n",
      "5-36:54.0\n",
      "36-21:1.0\n",
      "5-23:66.0\n",
      "29-12:68.0\n",
      "3-38:76.0\n",
      "20-30:80.0\n",
      "28-22:83.0\n",
      "36-35:91.0\n",
      "35-4:19.0\n",
      "21-11:104.0\n",
      "11-17:41.0\n",
      "2-26:108.0\n",
      "26-14:89.0\n",
      "26-32:102.0\n"
     ]
    }
   ],
   "source": [
    "# Prim's Algorithm in Python\n",
    "\n",
    "INF = 9999999\n",
    "# number of vertices in graph\n",
    "N = 40\n",
    "#creating graph by adjacency matrix method\n",
    "G=matrix\n",
    "selected_node = 40*[0]\n",
    "\n",
    "no_edge = 0\n",
    "\n",
    "selected_node[0] = 1\n",
    "summ=0\n",
    "# printing for edge and weight\n",
    "print(\"Edge : Weight\\n\")\n",
    "while (no_edge < N - 1):\n",
    "    \n",
    "    minimum = INF\n",
    "    a = 0\n",
    "    b = 0\n",
    "    for m in range(N):\n",
    "        if selected_node[m]:\n",
    "            for n in range(N):\n",
    "                if ((not selected_node[n]) and G[m][n]):  \n",
    "                    # not in selected and there is an edge\n",
    "                    if minimum > G[m][n]:\n",
    "                        minimum = G[m][n]\n",
    "                        a = m\n",
    "                        b = n\n",
    "    print(str(a) + \"-\" + str(b) + \":\" + str(G[a][b]))\n",
    "    summ+=G[a][b]\n",
    "    selected_node[b] = True\n",
    "    no_edge += 1"
   ]
  },
  {
   "cell_type": "code",
   "execution_count": 60,
   "id": "c6d1d78a",
   "metadata": {},
   "outputs": [
    {
     "ename": "IndentationError",
     "evalue": "expected an indented block (Temp/ipykernel_24988/1343951733.py, line 23)",
     "output_type": "error",
     "traceback": [
      "\u001b[1;36m  File \u001b[1;32m\"C:\\Users\\CHIHEB~1\\AppData\\Local\\Temp/ipykernel_24988/1343951733.py\"\u001b[1;36m, line \u001b[1;32m23\u001b[0m\n\u001b[1;33m    make_set(vertice)\u001b[0m\n\u001b[1;37m    ^\u001b[0m\n\u001b[1;31mIndentationError\u001b[0m\u001b[1;31m:\u001b[0m expected an indented block\n"
     ]
    }
   ],
   "source": []
  },
  {
   "cell_type": "code",
   "execution_count": 76,
   "id": "a74458dc",
   "metadata": {},
   "outputs": [],
   "source": [
    "parent = dict()\n",
    "rank = dict()"
   ]
  },
  {
   "cell_type": "code",
   "execution_count": 77,
   "id": "33ed93b4",
   "metadata": {},
   "outputs": [],
   "source": [
    "def make_set(vertice):\n",
    "    parent[vertice] = vertice\n",
    "    rank[vertice] = 0"
   ]
  },
  {
   "cell_type": "code",
   "execution_count": 78,
   "id": "0ae52e7d",
   "metadata": {},
   "outputs": [],
   "source": [
    "def find(vertice):\n",
    "    if parent[vertice] != vertice:\n",
    "        parent[vertice] = find(parent[vertice])\n",
    "    return parent[vertice]"
   ]
  },
  {
   "cell_type": "code",
   "execution_count": 79,
   "id": "2a1ac980",
   "metadata": {},
   "outputs": [],
   "source": [
    "def union(vertice1, vertice2):\n",
    "    root1 = find(vertice1)\n",
    "    root2 = find(vertice2)\n",
    "    if root1 != root2:\n",
    "        if rank[root1] > rank[root2]:\n",
    "            parent[root2] = root1\n",
    "    else:\n",
    "        parent[root1] = root2\n",
    "    if rank[root1] == rank[root2]: rank[root2] += 1"
   ]
  },
  {
   "cell_type": "code",
   "execution_count": 133,
   "id": "c630e301",
   "metadata": {},
   "outputs": [],
   "source": [
    "def kruskal(graph):\n",
    "    for vertice in graph['vertices']:\n",
    "        make_set(vertice)\n",
    "        minimum_spanning_tree = set()\n",
    "    edges = list(graph['edges'])\n",
    "    edges.sort()\n",
    "        #print edges\n",
    "    for edge in edges:\n",
    "        weight, vertice1, vertice2 = edge\n",
    "        if find(vertice1) != find(vertice2):\n",
    "            print(find(vertice1),find(vertice2))\n",
    "            union(vertice1, vertice2)\n",
    "            print(find(vertice1),find(vertice2))\n",
    "            minimum_spanning_tree.add(edge)\n",
    "        \n",
    "    return sorted(minimum_spanning_tree)"
   ]
  },
  {
   "cell_type": "code",
   "execution_count": 134,
   "id": "55b0f47c",
   "metadata": {},
   "outputs": [],
   "source": [
    "edges_glob=[]\n",
    "for i in range(n):\n",
    "    for j in range(n):\n",
    "        if(matrix[i][j]):\n",
    "            edges_glob.append((matrix[i][j],i,j))"
   ]
  },
  {
   "cell_type": "code",
   "execution_count": 135,
   "id": "0acc8542",
   "metadata": {},
   "outputs": [],
   "source": [
    "graph={\n",
    "    'vertices':list(range(n)),\n",
    "    'edges':set(edges_glob)\n",
    "}"
   ]
  },
  {
   "cell_type": "code",
   "execution_count": 127,
   "id": "09f0a87e",
   "metadata": {},
   "outputs": [
    {
     "name": "stdout",
     "output_type": "stream",
     "text": [
      "21 36\n",
      "36 21\n",
      "27 34\n",
      "34 27\n",
      "10 33\n",
      "33 10\n",
      "28 34\n",
      "34 28\n",
      "4 35\n",
      "35 4\n",
      "9 29\n",
      "29 9\n",
      "5 25\n",
      "20 28\n",
      "25 5\n",
      "28 20\n",
      "3 9\n",
      "9 3\n",
      "5 34\n",
      "34 5\n",
      "7 9\n",
      "9 7\n",
      "8 15\n",
      "9 13\n",
      "15 8\n",
      "29 37\n",
      "11 17\n",
      "17 11\n",
      "6 10\n",
      "10 6\n",
      "2 9\n",
      "9 2\n",
      "28 37\n",
      "9 10\n",
      "8 24\n",
      "10 19\n",
      "5 36\n",
      "0 31\n",
      "31 0\n",
      "5 23\n",
      "12 29\n",
      "15 31\n",
      "29 12\n",
      "31 15\n",
      "16 18\n",
      "18 16\n",
      "3 38\n",
      "20 30\n",
      "22 28\n",
      "28 22\n",
      "14 26\n",
      "26 14\n",
      "35 36\n",
      "36 35\n",
      "1 37\n",
      "26 32\n",
      "37 1\n",
      "11 21\n",
      "21 11\n",
      "2 26\n",
      "1 16\n",
      "0 18\n",
      "18 0\n"
     ]
    }
   ],
   "source": [
    "result=kruskal(graph)"
   ]
  },
  {
   "cell_type": "code",
   "execution_count": 138,
   "id": "d89fc751",
   "metadata": {},
   "outputs": [],
   "source": [
    "with open('readme.txt', 'w') as f:\n",
    "    \n",
    "    for i in range(n):\n",
    "        for j in range(n):\n",
    "            f.write(str(int(matrix[i][j]))+'\\n')\n",
    "        "
   ]
  },
  {
   "cell_type": "code",
   "execution_count": 113,
   "id": "4cc58c73",
   "metadata": {
    "scrolled": true
   },
   "outputs": [
    {
     "name": "stdout",
     "output_type": "stream",
     "text": [
      "[(1.0, 21, 36), (1.0, 36, 21), (6.0, 27, 34), (6.0, 34, 27), (7.0, 10, 33), (7.0, 33, 10), (9.0, 28, 34), (9.0, 34, 28), (19.0, 4, 35), (19.0, 35, 4), (25.0, 9, 29), (25.0, 29, 9), (27.0, 5, 25), (27.0, 20, 28), (27.0, 25, 5), (27.0, 28, 20), (32.0, 3, 9), (32.0, 9, 3), (33.0, 5, 34), (33.0, 34, 5), (35.0, 7, 9), (35.0, 9, 7), (36.0, 8, 15), (36.0, 9, 13), (36.0, 15, 8), (36.0, 29, 37), (41.0, 11, 17), (41.0, 17, 11), (42.0, 6, 10), (42.0, 10, 6), (47.0, 2, 9), (47.0, 9, 2), (48.0, 28, 37), (50.0, 9, 10), (53.0, 8, 24), (53.0, 10, 19), (54.0, 5, 36), (56.0, 0, 31), (56.0, 31, 0), (66.0, 5, 23), (68.0, 12, 29), (68.0, 15, 31), (68.0, 29, 12), (68.0, 31, 15), (73.0, 16, 18), (73.0, 18, 16), (76.0, 3, 38), (80.0, 20, 30), (83.0, 22, 28), (83.0, 28, 22), (89.0, 14, 26), (89.0, 26, 14), (91.0, 35, 36), (91.0, 36, 35), (102.0, 1, 37), (102.0, 26, 32), (102.0, 37, 1), (104.0, 11, 21), (104.0, 21, 11), (108.0, 2, 26), (122.0, 1, 16), (131.0, 0, 18), (131.0, 18, 0)]\n"
     ]
    }
   ],
   "source": [
    "print(result)"
   ]
  },
  {
   "cell_type": "code",
   "execution_count": 124,
   "id": "d6d9ed5f",
   "metadata": {},
   "outputs": [
    {
     "name": "stdout",
     "output_type": "stream",
     "text": [
      "261832.0\n"
     ]
    }
   ],
   "source": [
    "print(sum(sum(matrix))/2)"
   ]
  },
  {
   "cell_type": "code",
   "execution_count": 125,
   "id": "1dfd94ff",
   "metadata": {},
   "outputs": [
    {
     "data": {
      "text/plain": [
       "1694.0"
      ]
     },
     "execution_count": 125,
     "metadata": {},
     "output_type": "execute_result"
    }
   ],
   "source": [
    "min_sum/2"
   ]
  },
  {
   "cell_type": "code",
   "execution_count": 121,
   "id": "51a98dc4",
   "metadata": {},
   "outputs": [
    {
     "name": "stdout",
     "output_type": "stream",
     "text": [
      "260138.0\n"
     ]
    }
   ],
   "source": [
    "print(sum(sum(matrix))/2-min_sum/2)"
   ]
  }
 ],
 "metadata": {
  "kernelspec": {
   "display_name": "Python 3 (ipykernel)",
   "language": "python",
   "name": "python3"
  },
  "language_info": {
   "codemirror_mode": {
    "name": "ipython",
    "version": 3
   },
   "file_extension": ".py",
   "mimetype": "text/x-python",
   "name": "python",
   "nbconvert_exporter": "python",
   "pygments_lexer": "ipython3",
   "version": "3.9.7"
  }
 },
 "nbformat": 4,
 "nbformat_minor": 5
}
